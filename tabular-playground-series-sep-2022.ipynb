{
 "cells": [
  {
   "cell_type": "code",
   "execution_count": 1,
   "id": "575ad1a9",
   "metadata": {
    "_cell_guid": "b1076dfc-b9ad-4769-8c92-a6c4dae69d19",
    "_uuid": "8f2839f25d086af736a60e9eeb907d3b93b6e0e5",
    "execution": {
     "iopub.execute_input": "2022-09-13T09:44:05.367674Z",
     "iopub.status.busy": "2022-09-13T09:44:05.367244Z",
     "iopub.status.idle": "2022-09-13T09:44:06.928956Z",
     "shell.execute_reply": "2022-09-13T09:44:06.927816Z"
    },
    "papermill": {
     "duration": 1.570809,
     "end_time": "2022-09-13T09:44:06.932024",
     "exception": false,
     "start_time": "2022-09-13T09:44:05.361215",
     "status": "completed"
    },
    "tags": []
   },
   "outputs": [
    {
     "name": "stdout",
     "output_type": "stream",
     "text": [
      "/kaggle/input/tabular-playground-series-sep-2022/sample_submission.csv\n",
      "/kaggle/input/tabular-playground-series-sep-2022/train.csv\n",
      "/kaggle/input/tabular-playground-series-sep-2022/test.csv\n"
     ]
    }
   ],
   "source": [
    "import numpy as np\n",
    "import pandas as pd\n",
    "import os\n",
    "for dirname, _, filenames in os.walk('/kaggle/input'):\n",
    "    for filename in filenames:\n",
    "        print(os.path.join(dirname, filename))\n",
    "\n",
    "import matplotlib.pyplot as plt\n",
    "\n",
    "import seaborn as sns\n",
    "import xgboost as xgb\n",
    "\n",
    "color_pal = sns.color_palette()"
   ]
  },
  {
   "cell_type": "markdown",
   "id": "d64ef2a9",
   "metadata": {
    "papermill": {
     "duration": 0.003206,
     "end_time": "2022-09-13T09:44:06.939204",
     "exception": false,
     "start_time": "2022-09-13T09:44:06.935998",
     "status": "completed"
    },
    "tags": []
   },
   "source": [
    "Train data contain 6 countries with 4 shops for every country and 4 products for every shop (6 countries, each have 8 values. For one day we have 48 lines of Data)"
   ]
  },
  {
   "cell_type": "code",
   "execution_count": 2,
   "id": "6fe81f54",
   "metadata": {
    "execution": {
     "iopub.execute_input": "2022-09-13T09:44:06.948245Z",
     "iopub.status.busy": "2022-09-13T09:44:06.947856Z",
     "iopub.status.idle": "2022-09-13T09:44:07.142589Z",
     "shell.execute_reply": "2022-09-13T09:44:07.141652Z"
    },
    "papermill": {
     "duration": 0.202549,
     "end_time": "2022-09-13T09:44:07.145197",
     "exception": false,
     "start_time": "2022-09-13T09:44:06.942648",
     "status": "completed"
    },
    "tags": []
   },
   "outputs": [],
   "source": [
    "InputDataNames = [\"date\",\"country\",\"num_sold\"] #имена столбцов которые я использую и в тренировочных и в тестовых данных\n",
    "\n",
    "train_row = pd.read_csv(\"../input/tabular-playground-series-sep-2022/train.csv\", delimiter=\",\")\n",
    "test_row = pd.read_csv(\"../input/tabular-playground-series-sep-2022/test.csv\", delimiter=\",\")\n",
    "\n",
    "train_row = train_row[InputDataNames] # присвоение данных определенных столбцом\n",
    "InputDataNames.remove(\"num_sold\") #данные для тестовой выборки не имеют колонки проданых товаров\n",
    "test_row = test_row[InputDataNames]\n",
    "InputDataNames.append(\"num_sold\")\n",
    "\n",
    "train_pd = train_row.copy() #Data = train_row\n",
    "train_pd = train_pd.set_index('date')\n",
    "train_pd.index = pd.to_datetime(train_pd.index)\n",
    "\n",
    "test_pd = test_row.copy() #Data_T = test_pd\n",
    "test_pd = test_pd.set_index('date')\n",
    "test_pd.index = pd.to_datetime(test_pd.index)"
   ]
  },
  {
   "cell_type": "code",
   "execution_count": 3,
   "id": "8bbb2c64",
   "metadata": {
    "execution": {
     "iopub.execute_input": "2022-09-13T09:44:07.154320Z",
     "iopub.status.busy": "2022-09-13T09:44:07.153867Z",
     "iopub.status.idle": "2022-09-13T09:44:07.267725Z",
     "shell.execute_reply": "2022-09-13T09:44:07.266032Z"
    },
    "papermill": {
     "duration": 0.121559,
     "end_time": "2022-09-13T09:44:07.270402",
     "exception": false,
     "start_time": "2022-09-13T09:44:07.148843",
     "status": "completed"
    },
    "tags": []
   },
   "outputs": [
    {
     "name": "stdout",
     "output_type": "stream",
     "text": [
      "date\n",
      "2017-01-01    52\n",
      "2017-01-02     1\n",
      "2017-01-02     1\n",
      "2017-01-02     1\n",
      "2017-01-02     1\n",
      "              ..\n",
      "2017-12-31    52\n",
      "2017-12-31    52\n",
      "2017-12-31    52\n",
      "2017-12-31    52\n",
      "2017-12-31    52\n",
      "Name: week, Length: 17473, dtype: UInt32\n"
     ]
    }
   ],
   "source": [
    "def create_features(Date): #функция для  создания разных индексов для работы с каждым отрезком времени отдельно\n",
    "    \"\"\"\n",
    "    Create time series features based on time series index.\n",
    "    \"\"\"\n",
    "    Date = Date.copy()\n",
    "    Date['dayofweek'] = Date.index.dayofweek # 1-7\n",
    "    Date['quarter'] = Date.index.quarter # 1 - 4 повторяються 4 раза, вроде(сколько лет столько и повторяеться) \n",
    "    Date['month'] = Date.index.month # 1 - 12 повторяються 4 раза, вроде(сколько лет столько и повторяеться) \n",
    "    Date['year'] = Date.index.year # повторяються 4 раза, вроде(сколько лет столько и повторяеться) \n",
    "    Date['dayofyear'] = Date.index.dayofyear #2017 - 2020, 4 значения\n",
    "    Date['dayofmonth'] = Date.index.day # 1-31 (29-31) \n",
    "    Date['weekofyear'] = Date.index.isocalendar().week # 1-52(53) недель в году, повторяються 4 раза,(сколько лет столько и повторяеться) \n",
    "    return Date\n",
    "\n",
    "train_pd = create_features(train_pd)\n",
    "print(train_pd.index.isocalendar().week[47:(48*365*1)])"
   ]
  },
  {
   "cell_type": "code",
   "execution_count": 4,
   "id": "9876cdc7",
   "metadata": {
    "execution": {
     "iopub.execute_input": "2022-09-13T09:44:07.279381Z",
     "iopub.status.busy": "2022-09-13T09:44:07.278956Z",
     "iopub.status.idle": "2022-09-13T09:44:07.479703Z",
     "shell.execute_reply": "2022-09-13T09:44:07.478754Z"
    },
    "papermill": {
     "duration": 0.20771,
     "end_time": "2022-09-13T09:44:07.481906",
     "exception": false,
     "start_time": "2022-09-13T09:44:07.274196",
     "status": "completed"
    },
    "tags": []
   },
   "outputs": [
    {
     "name": "stdout",
     "output_type": "stream",
     "text": [
      "(1461,)\n"
     ]
    },
    {
     "data": {
      "image/png": "[encoded data removed]",
      "text/plain": [
       "<Figure size 432x288 with 1 Axes>"
      ]
     },
     "metadata": {
      "needs_background": "light"
     },
     "output_type": "display_data"
    }
   ],
   "source": [
    "one_day = 48\n",
    "train_np = train_pd[\"num_sold\"].to_numpy()\n",
    "Day_sum = np.array([])\n",
    "train_np.reshape(one_day,int((70128/one_day))) #48 - количество продаж для всех магазинов в один день\n",
    "for i in range(int((70128/one_day))):\n",
    "    Day_sum = np.append(Day_sum,[np.sum(train_np[i])])\n",
    "print(Day_sum.shape)\n",
    "\n",
    "plt.plot(Day_sum[0:28]) #Не стортированое по дням и странам количество продаж\n",
    "plt.show()"
   ]
  },
  {
   "cell_type": "markdown",
   "id": "5fea2fba",
   "metadata": {
    "papermill": {
     "duration": 0.003832,
     "end_time": "2022-09-13T09:44:07.489970",
     "exception": false,
     "start_time": "2022-09-13T09:44:07.486138",
     "status": "completed"
    },
    "tags": []
   },
   "source": [
    "# **Train** / **Test** "
   ]
  },
  {
   "cell_type": "markdown",
   "id": "159b8ed6",
   "metadata": {
    "papermill": {
     "duration": 0.003702,
     "end_time": "2022-09-13T09:44:07.497703",
     "exception": false,
     "start_time": "2022-09-13T09:44:07.494001",
     "status": "completed"
    },
    "tags": []
   },
   "source": [
    "# Create **HAHAAHHAAHAH MODEL**\n"
   ]
  },
  {
   "cell_type": "code",
   "execution_count": 5,
   "id": "83a7bb55",
   "metadata": {
    "execution": {
     "iopub.execute_input": "2022-09-13T09:44:07.507577Z",
     "iopub.status.busy": "2022-09-13T09:44:07.506915Z",
     "iopub.status.idle": "2022-09-13T09:44:07.593578Z",
     "shell.execute_reply": "2022-09-13T09:44:07.592335Z"
    },
    "papermill": {
     "duration": 0.094675,
     "end_time": "2022-09-13T09:44:07.596314",
     "exception": false,
     "start_time": "2022-09-13T09:44:07.501639",
     "status": "completed"
    },
    "tags": []
   },
   "outputs": [],
   "source": [
    "train = create_features(train_pd)\n",
    "#test = create_features(test)\n",
    "\n",
    "FEATURES = ['dayofyear', 'dayofweek', 'quarter', 'month']#\n",
    "TARGET = 'num_sold'\n",
    "\n",
    "X_train = train[FEATURES]\n",
    "y_train = train[TARGET]\n",
    "\n",
    "#X_test = test[FEATURES]\n",
    "#y_test = test[TARGET]"
   ]
  },
  {
   "cell_type": "code",
   "execution_count": 6,
   "id": "71645f8d",
   "metadata": {
    "execution": {
     "iopub.execute_input": "2022-09-13T09:44:07.606767Z",
     "iopub.status.busy": "2022-09-13T09:44:07.606359Z",
     "iopub.status.idle": "2022-09-13T09:44:09.316177Z",
     "shell.execute_reply": "2022-09-13T09:44:09.315217Z"
    },
    "papermill": {
     "duration": 1.718319,
     "end_time": "2022-09-13T09:44:09.319052",
     "exception": false,
     "start_time": "2022-09-13T09:44:07.600733",
     "status": "completed"
    },
    "tags": []
   },
   "outputs": [
    {
     "name": "stdout",
     "output_type": "stream",
     "text": [
      "[0]\tvalidation_0-rmse:221.88117\n",
      "[1]\tvalidation_0-rmse:212.88188\n",
      "[2]\tvalidation_0-rmse:204.59767\n",
      "[3]\tvalidation_0-rmse:196.98762\n",
      "[4]\tvalidation_0-rmse:190.00871\n",
      "[5]\tvalidation_0-rmse:183.62180\n",
      "[6]\tvalidation_0-rmse:177.78617\n",
      "[7]\tvalidation_0-rmse:172.46509\n",
      "[8]\tvalidation_0-rmse:167.62443\n",
      "[9]\tvalidation_0-rmse:163.22296\n",
      "[10]\tvalidation_0-rmse:159.23417\n",
      "[11]\tvalidation_0-rmse:155.62181\n",
      "[12]\tvalidation_0-rmse:152.35839\n",
      "[13]\tvalidation_0-rmse:149.41541\n",
      "[14]\tvalidation_0-rmse:146.76551\n",
      "[15]\tvalidation_0-rmse:144.38257\n",
      "[16]\tvalidation_0-rmse:142.24254\n",
      "[17]\tvalidation_0-rmse:140.32404\n",
      "[18]\tvalidation_0-rmse:138.60591\n",
      "[19]\tvalidation_0-rmse:137.06909\n",
      "[20]\tvalidation_0-rmse:135.69642\n",
      "[21]\tvalidation_0-rmse:134.47156\n",
      "[22]\tvalidation_0-rmse:133.37941\n",
      "[23]\tvalidation_0-rmse:132.40678\n",
      "[24]\tvalidation_0-rmse:131.53965\n",
      "[25]\tvalidation_0-rmse:130.76893\n",
      "[26]\tvalidation_0-rmse:130.08326\n",
      "[27]\tvalidation_0-rmse:129.47444\n",
      "[28]\tvalidation_0-rmse:128.93342\n",
      "[29]\tvalidation_0-rmse:128.45134\n",
      "[30]\tvalidation_0-rmse:128.02303\n",
      "[31]\tvalidation_0-rmse:127.64455\n",
      "[32]\tvalidation_0-rmse:127.30692\n",
      "[33]\tvalidation_0-rmse:127.00799\n",
      "[34]\tvalidation_0-rmse:126.74340\n",
      "[35]\tvalidation_0-rmse:126.50927\n",
      "[36]\tvalidation_0-rmse:126.30096\n",
      "[37]\tvalidation_0-rmse:126.11664\n",
      "[38]\tvalidation_0-rmse:125.95235\n",
      "[39]\tvalidation_0-rmse:125.80793\n",
      "[40]\tvalidation_0-rmse:125.67923\n",
      "[41]\tvalidation_0-rmse:125.56522\n",
      "[42]\tvalidation_0-rmse:125.46432\n",
      "[43]\tvalidation_0-rmse:125.37387\n",
      "[44]\tvalidation_0-rmse:125.29369\n",
      "[45]\tvalidation_0-rmse:125.22265\n",
      "[46]\tvalidation_0-rmse:125.16077\n",
      "[47]\tvalidation_0-rmse:125.10576\n",
      "[48]\tvalidation_0-rmse:125.05664\n",
      "[49]\tvalidation_0-rmse:125.01243\n",
      "[50]\tvalidation_0-rmse:124.97309\n",
      "[51]\tvalidation_0-rmse:124.93869\n",
      "[52]\tvalidation_0-rmse:124.90817\n",
      "[53]\tvalidation_0-rmse:124.88083\n",
      "[54]\tvalidation_0-rmse:124.85600\n",
      "[55]\tvalidation_0-rmse:124.83453\n",
      "[56]\tvalidation_0-rmse:124.81515\n",
      "[57]\tvalidation_0-rmse:124.79770\n",
      "[58]\tvalidation_0-rmse:124.78202\n",
      "[59]\tvalidation_0-rmse:124.76889\n",
      "[60]\tvalidation_0-rmse:124.75659\n",
      "[61]\tvalidation_0-rmse:124.74590\n",
      "[62]\tvalidation_0-rmse:124.73585\n",
      "[63]\tvalidation_0-rmse:124.72707\n",
      "[64]\tvalidation_0-rmse:124.71745\n",
      "[65]\tvalidation_0-rmse:124.71060\n",
      "[66]\tvalidation_0-rmse:124.70466\n",
      "[67]\tvalidation_0-rmse:124.69744\n",
      "[68]\tvalidation_0-rmse:124.69233\n",
      "[69]\tvalidation_0-rmse:124.68718\n",
      "[70]\tvalidation_0-rmse:124.68314\n",
      "[71]\tvalidation_0-rmse:124.67808\n",
      "[72]\tvalidation_0-rmse:124.67487\n",
      "[73]\tvalidation_0-rmse:124.67143\n",
      "[74]\tvalidation_0-rmse:124.66815\n",
      "[75]\tvalidation_0-rmse:124.66568\n",
      "[76]\tvalidation_0-rmse:124.66281\n",
      "[77]\tvalidation_0-rmse:124.65951\n",
      "[78]\tvalidation_0-rmse:124.65709\n",
      "[79]\tvalidation_0-rmse:124.65539\n",
      "[80]\tvalidation_0-rmse:124.65329\n",
      "[81]\tvalidation_0-rmse:124.65156\n",
      "[82]\tvalidation_0-rmse:124.64913\n",
      "[83]\tvalidation_0-rmse:124.64786\n",
      "[84]\tvalidation_0-rmse:124.64576\n",
      "[85]\tvalidation_0-rmse:124.64438\n",
      "[86]\tvalidation_0-rmse:124.64290\n",
      "[87]\tvalidation_0-rmse:124.64196\n",
      "[88]\tvalidation_0-rmse:124.64046\n",
      "[89]\tvalidation_0-rmse:124.63916\n",
      "[90]\tvalidation_0-rmse:124.63755\n",
      "[91]\tvalidation_0-rmse:124.63620\n",
      "[92]\tvalidation_0-rmse:124.63511\n",
      "[93]\tvalidation_0-rmse:124.63411\n",
      "[94]\tvalidation_0-rmse:124.63336\n",
      "[95]\tvalidation_0-rmse:124.63231\n",
      "[96]\tvalidation_0-rmse:124.63142\n",
      "[97]\tvalidation_0-rmse:124.63036\n",
      "[98]\tvalidation_0-rmse:124.62958\n",
      "[99]\tvalidation_0-rmse:124.62855\n"
     ]
    },
    {
     "data": {
      "text/plain": [
       "XGBRegressor(base_score=0.5, booster='gbtree', callbacks=None,\n",
       "             colsample_bylevel=1, colsample_bynode=1, colsample_bytree=1,\n",
       "             early_stopping_rounds=None, enable_categorical=False,\n",
       "             eval_metric=None, gamma=0, gpu_id=-1, grow_policy='depthwise',\n",
       "             importance_type=None, interaction_constraints='',\n",
       "             learning_rate=0.06, max_bin=256, max_cat_to_onehot=4,\n",
       "             max_delta_step=0, max_depth=3, max_leaves=0, min_child_weight=1,\n",
       "             missing=nan, monotone_constraints='()', n_estimators=100, n_jobs=0,\n",
       "             num_parallel_tree=1, predictor='auto', random_state=0, reg_alpha=0,\n",
       "             reg_lambda=1, ...)"
      ]
     },
     "execution_count": 6,
     "metadata": {},
     "output_type": "execute_result"
    }
   ],
   "source": [
    "reg = xgb.XGBRegressor(base_score=0.5, booster='gbtree',    \n",
    "                       n_estimators=100,\n",
    "                       objective='reg:squarederror',\n",
    "                       max_depth=3,\n",
    "                       learning_rate=0.06)\n",
    "reg.fit(X_train, y_train, eval_set=[(X_train, y_train)])"
   ]
  },
  {
   "cell_type": "markdown",
   "id": "e5dc3a54",
   "metadata": {
    "papermill": {
     "duration": 0.010881,
     "end_time": "2022-09-13T09:44:09.341762",
     "exception": false,
     "start_time": "2022-09-13T09:44:09.330881",
     "status": "completed"
    },
    "tags": []
   },
   "source": [
    "# **Feature** **Importance**"
   ]
  },
  {
   "cell_type": "code",
   "execution_count": 7,
   "id": "2bd67696",
   "metadata": {
    "execution": {
     "iopub.execute_input": "2022-09-13T09:44:09.365948Z",
     "iopub.status.busy": "2022-09-13T09:44:09.365170Z",
     "iopub.status.idle": "2022-09-13T09:44:09.586724Z",
     "shell.execute_reply": "2022-09-13T09:44:09.585698Z"
    },
    "papermill": {
     "duration": 0.237181,
     "end_time": "2022-09-13T09:44:09.589853",
     "exception": false,
     "start_time": "2022-09-13T09:44:09.352672",
     "status": "completed"
    },
    "tags": []
   },
   "outputs": [
    {
     "data": {
      "image/png": "[encoded data removed]",
      "text/plain": [
       "<Figure size 432x288 with 1 Axes>"
      ]
     },
     "metadata": {
      "needs_background": "light"
     },
     "output_type": "display_data"
    }
   ],
   "source": [
    "fi = pd.DataFrame(data=reg.feature_importances_,\n",
    "             index=reg.feature_names_in_,\n",
    "             columns=['importance'])\n",
    "fi.sort_values('importance').plot(kind='barh', title='Feature Importance')\n",
    "plt.show()"
   ]
  }
 ],
 "metadata": {
  "kernelspec": {
   "display_name": "Python 3",
   "language": "python",
   "name": "python3"
  },
  "language_info": {
   "codemirror_mode": {
    "name": "ipython",
    "version": 3
   },
   "file_extension": ".py",
   "mimetype": "text/x-python",
   "name": "python",
   "nbconvert_exporter": "python",
   "pygments_lexer": "ipython3",
   "version": "3.7.12"
  },
  "papermill": {
   "default_parameters": {},
   "duration": 14.752516,
   "end_time": "2022-09-13T09:44:10.424420",
   "environment_variables": {},
   "exception": null,
   "input_path": "__notebook__.ipynb",
   "output_path": "__notebook__.ipynb",
   "parameters": {},
   "start_time": "2022-09-13T09:43:55.671904",
   "version": "2.3.4"
  }
 },
 "nbformat": 4,
 "nbformat_minor": 5
}
