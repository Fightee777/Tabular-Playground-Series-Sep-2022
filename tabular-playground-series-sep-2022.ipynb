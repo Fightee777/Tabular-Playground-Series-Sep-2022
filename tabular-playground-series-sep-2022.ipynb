{
 "cells": [
  {
   "cell_type": "code",
   "execution_count": 1,
   "id": "3e9f6206",
   "metadata": {
    "_cell_guid": "b1076dfc-b9ad-4769-8c92-a6c4dae69d19",
    "_uuid": "8f2839f25d086af736a60e9eeb907d3b93b6e0e5",
    "execution": {
     "iopub.execute_input": "2022-09-15T10:55:13.460856Z",
     "iopub.status.busy": "2022-09-15T10:55:13.460400Z",
     "iopub.status.idle": "2022-09-15T10:55:14.820528Z",
     "shell.execute_reply": "2022-09-15T10:55:14.819477Z"
    },
    "papermill": {
     "duration": 1.369798,
     "end_time": "2022-09-15T10:55:14.823220",
     "exception": false,
     "start_time": "2022-09-15T10:55:13.453422",
     "status": "completed"
    },
    "tags": []
   },
   "outputs": [
    {
     "name": "stdout",
     "output_type": "stream",
     "text": [
      "/kaggle/input/tabular-playground-series-sep-2022/sample_submission.csv\n",
      "/kaggle/input/tabular-playground-series-sep-2022/train.csv\n",
      "/kaggle/input/tabular-playground-series-sep-2022/test.csv\n"
     ]
    }
   ],
   "source": [
    "import numpy as np\n",
    "import pandas as pd\n",
    "import os\n",
    "for dirname, _, filenames in os.walk('/kaggle/input'):\n",
    "    for filename in filenames:\n",
    "        print(os.path.join(dirname, filename))\n",
    "\n",
    "import matplotlib.pyplot as plt\n",
    "\n",
    "import seaborn as sns\n",
    "import xgboost as xgb\n",
    "\n",
    "color_pal = sns.color_palette()"
   ]
  },
  {
   "cell_type": "markdown",
   "id": "9b0b6b05",
   "metadata": {
    "papermill": {
     "duration": 0.003657,
     "end_time": "2022-09-15T10:55:14.830927",
     "exception": false,
     "start_time": "2022-09-15T10:55:14.827270",
     "status": "completed"
    },
    "tags": []
   },
   "source": [
    "Train data contain 6 countries with 4 shops for every country and 4 products for every shop (6 countries, each have 8 values. For one day we have 48 lines of Data)"
   ]
  },
  {
   "cell_type": "code",
   "execution_count": 2,
   "id": "0dc05e9c",
   "metadata": {
    "execution": {
     "iopub.execute_input": "2022-09-15T10:55:14.840439Z",
     "iopub.status.busy": "2022-09-15T10:55:14.839392Z",
     "iopub.status.idle": "2022-09-15T10:55:15.111867Z",
     "shell.execute_reply": "2022-09-15T10:55:15.110868Z"
    },
    "papermill": {
     "duration": 0.279694,
     "end_time": "2022-09-15T10:55:15.114226",
     "exception": false,
     "start_time": "2022-09-15T10:55:14.834532",
     "status": "completed"
    },
    "tags": []
   },
   "outputs": [],
   "source": [
    "InputDataNames = [\"date\",\"country\",\"num_sold\"] #имена столбцов которые я использую и в тренировочных и в тестовых данных\n",
    "\n",
    "train_row = pd.read_csv(\"../input/tabular-playground-series-sep-2022/train.csv\", delimiter=\",\")\n",
    "test_row = pd.read_csv(\"../input/tabular-playground-series-sep-2022/test.csv\", delimiter=\",\")\n",
    "\n",
    "train_row = train_row[InputDataNames] # присвоение данных определенных столбцом\n",
    "InputDataNames.remove(\"num_sold\") #данные для тестовой выборки не имеют колонки проданых товаров\n",
    "test_row = test_row[InputDataNames]\n",
    "InputDataNames.append(\"num_sold\")\n",
    "\n",
    "train_pd = train_row.copy() #Data = train_row\n",
    "train_pd = train_pd.set_index('date')\n",
    "train_pd.index = pd.to_datetime(train_pd.index)\n",
    "\n",
    "test_pd = test_row.copy() #Data_T = test_pd\n",
    "test_pd = test_pd.set_index('date')\n",
    "test_pd.index = pd.to_datetime(test_pd.index)"
   ]
  },
  {
   "cell_type": "code",
   "execution_count": 3,
   "id": "19b8f4b1",
   "metadata": {
    "execution": {
     "iopub.execute_input": "2022-09-15T10:55:15.123641Z",
     "iopub.status.busy": "2022-09-15T10:55:15.122647Z",
     "iopub.status.idle": "2022-09-15T10:55:15.232509Z",
     "shell.execute_reply": "2022-09-15T10:55:15.230641Z"
    },
    "papermill": {
     "duration": 0.11716,
     "end_time": "2022-09-15T10:55:15.235116",
     "exception": false,
     "start_time": "2022-09-15T10:55:15.117956",
     "status": "completed"
    },
    "tags": []
   },
   "outputs": [
    {
     "name": "stdout",
     "output_type": "stream",
     "text": [
      "date\n",
      "2017-01-01    52\n",
      "2017-01-02     1\n",
      "2017-01-02     1\n",
      "2017-01-02     1\n",
      "2017-01-02     1\n",
      "              ..\n",
      "2017-12-31    52\n",
      "2017-12-31    52\n",
      "2017-12-31    52\n",
      "2017-12-31    52\n",
      "2017-12-31    52\n",
      "Name: week, Length: 17473, dtype: UInt32\n"
     ]
    }
   ],
   "source": [
    "def create_features(Date): #функция для  создания разных индексов для работы с каждым отрезком времени отдельно\n",
    "    \"\"\"\n",
    "    Create time series features based on time series index.\n",
    "    \"\"\"\n",
    "    Date = Date.copy()\n",
    "    Date['dayofweek'] = Date.index.dayofweek # 1-7\n",
    "    Date['quarter'] = Date.index.quarter # 1 - 4 повторяються 4 раза, вроде(сколько лет столько и повторяеться) \n",
    "    Date['month'] = Date.index.month # 1 - 12 повторяються 4 раза, вроде(сколько лет столько и повторяеться) \n",
    "    Date['year'] = Date.index.year # повторяються 4 раза, вроде(сколько лет столько и повторяеться) \n",
    "    Date['dayofyear'] = Date.index.dayofyear #2017 - 2020, 4 значения\n",
    "    Date['dayofmonth'] = Date.index.day # 1-31 (29-31) \n",
    "    Date['weekofyear'] = Date.index.isocalendar().week # 1-52(53) недель в году, повторяються 4 раза,(сколько лет столько и повторяеться) \n",
    "   \n",
    "    return Date\n",
    "\n",
    "train_pd = create_features(train_pd)\n",
    "print(train_pd.index.isocalendar().week[47:(48*365*1)])"
   ]
  },
  {
   "cell_type": "code",
   "execution_count": 4,
   "id": "63d938d9",
   "metadata": {
    "execution": {
     "iopub.execute_input": "2022-09-15T10:55:15.245695Z",
     "iopub.status.busy": "2022-09-15T10:55:15.244793Z",
     "iopub.status.idle": "2022-09-15T10:55:15.491063Z",
     "shell.execute_reply": "2022-09-15T10:55:15.489852Z"
    },
    "papermill": {
     "duration": 0.254487,
     "end_time": "2022-09-15T10:55:15.493770",
     "exception": false,
     "start_time": "2022-09-15T10:55:15.239283",
     "status": "completed"
    },
    "tags": []
   },
   "outputs": [
    {
     "name": "stdout",
     "output_type": "stream",
     "text": [
      "(1461,)\n"
     ]
    },
    {
     "data": {
      "image/png": "[encoded data removed]",
      "text/plain": [
       "<Figure size 432x288 with 1 Axes>"
      ]
     },
     "metadata": {
      "needs_background": "light"
     },
     "output_type": "display_data"
    }
   ],
   "source": [
    "one_day = 48\n",
    "train_np = train_pd[\"num_sold\"].to_numpy()\n",
    "Day_sum = np.array([])\n",
    "train_np.reshape(one_day,int((70128/one_day))) #48 - количество продаж для всех магазинов в один день\n",
    "for i in range(int((70128/one_day))):\n",
    "    Day_sum = np.append(Day_sum,[np.sum(train_np[i])])\n",
    "print(Day_sum.shape)\n",
    "\n",
    "plt.plot(Day_sum[0:28]) #Не стортированое по дням и странам количество продаж\n",
    "plt.show()"
   ]
  },
  {
   "cell_type": "markdown",
   "id": "088665ae",
   "metadata": {
    "papermill": {
     "duration": 0.004108,
     "end_time": "2022-09-15T10:55:15.502357",
     "exception": false,
     "start_time": "2022-09-15T10:55:15.498249",
     "status": "completed"
    },
    "tags": []
   },
   "source": [
    "# **Train** / **Test** "
   ]
  },
  {
   "cell_type": "markdown",
   "id": "8a979b59",
   "metadata": {
    "papermill": {
     "duration": 0.003905,
     "end_time": "2022-09-15T10:55:15.510564",
     "exception": false,
     "start_time": "2022-09-15T10:55:15.506659",
     "status": "completed"
    },
    "tags": []
   },
   "source": [
    "# Create **HAHAAHHAAHAH MODEL**\n"
   ]
  },
  {
   "cell_type": "code",
   "execution_count": 5,
   "id": "ac0e7662",
   "metadata": {
    "execution": {
     "iopub.execute_input": "2022-09-15T10:55:15.521685Z",
     "iopub.status.busy": "2022-09-15T10:55:15.521306Z",
     "iopub.status.idle": "2022-09-15T10:55:15.628429Z",
     "shell.execute_reply": "2022-09-15T10:55:15.627237Z"
    },
    "papermill": {
     "duration": 0.115574,
     "end_time": "2022-09-15T10:55:15.630675",
     "exception": false,
     "start_time": "2022-09-15T10:55:15.515101",
     "status": "completed"
    },
    "tags": []
   },
   "outputs": [
    {
     "name": "stdout",
     "output_type": "stream",
     "text": [
      "Index(['dayofyear', 'dayofweek', 'quarter', 'month', 'year', 'dayofmonth'], dtype='object')\n",
      "Index(['dayofyear', 'dayofweek', 'quarter', 'month', 'year', 'dayofmonth'], dtype='object')\n"
     ]
    }
   ],
   "source": [
    "train = create_features(train_pd)\n",
    "test = create_features(test_pd)\n",
    "\n",
    "FEATURES = ['dayofyear', 'dayofweek', 'quarter', 'month', 'year','dayofmonth']#\n",
    "TARGET = 'num_sold'\n",
    "\n",
    "X_train = train[FEATURES]\n",
    "y_train = train[TARGET]\n",
    "\n",
    "X_test = test[FEATURES]\n",
    "#y_test = test[TARGET]\n",
    "print(X_test.columns)\n",
    "print(X_train.columns)"
   ]
  },
  {
   "cell_type": "code",
   "execution_count": 6,
   "id": "967ed843",
   "metadata": {
    "execution": {
     "iopub.execute_input": "2022-09-15T10:55:15.644673Z",
     "iopub.status.busy": "2022-09-15T10:55:15.642251Z",
     "iopub.status.idle": "2022-09-15T10:55:24.861172Z",
     "shell.execute_reply": "2022-09-15T10:55:24.859984Z"
    },
    "papermill": {
     "duration": 9.227404,
     "end_time": "2022-09-15T10:55:24.863641",
     "exception": false,
     "start_time": "2022-09-15T10:55:15.636237",
     "status": "completed"
    },
    "tags": []
   },
   "outputs": [
    {
     "name": "stdout",
     "output_type": "stream",
     "text": [
      "[0]\tvalidation_0-rmse:228.67124\n",
      "[50]\tvalidation_0-rmse:142.12842\n",
      "[100]\tvalidation_0-rmse:126.13989\n",
      "[150]\tvalidation_0-rmse:123.80008\n",
      "[200]\tvalidation_0-rmse:123.45224\n",
      "[250]\tvalidation_0-rmse:123.38697\n",
      "[300]\tvalidation_0-rmse:123.36289\n",
      "[350]\tvalidation_0-rmse:123.35022\n",
      "[399]\tvalidation_0-rmse:123.34211\n"
     ]
    },
    {
     "data": {
      "text/plain": [
       "XGBRegressor(base_score=0.1, booster='gbtree', callbacks=None,\n",
       "             colsample_bylevel=1, colsample_bynode=1, colsample_bytree=1,\n",
       "             early_stopping_rounds=None, enable_categorical=False,\n",
       "             eval_metric=None, gamma=0, gpu_id=-1, grow_policy='depthwise',\n",
       "             importance_type=None, interaction_constraints='',\n",
       "             learning_rate=0.02, max_bin=256, max_cat_to_onehot=4,\n",
       "             max_delta_step=0, max_depth=5, max_leaves=0, min_child_weight=1,\n",
       "             missing=nan, monotone_constraints='()', n_estimators=400, n_jobs=0,\n",
       "             num_parallel_tree=1, predictor='auto', random_state=0, reg_alpha=0,\n",
       "             reg_lambda=1, ...)"
      ]
     },
     "execution_count": 6,
     "metadata": {},
     "output_type": "execute_result"
    }
   ],
   "source": [
    "reg = xgb.XGBRegressor(base_score=0.1, booster='gbtree',    \n",
    "                       n_estimators=400,\n",
    "                       objective='reg:squarederror',\n",
    "                       max_depth=5,\n",
    "                       learning_rate=0.02)\n",
    "reg.fit(X_train, y_train, eval_set=[(X_train, y_train)], verbose=50)"
   ]
  },
  {
   "cell_type": "markdown",
   "id": "50a0d704",
   "metadata": {
    "papermill": {
     "duration": 0.004612,
     "end_time": "2022-09-15T10:55:24.873352",
     "exception": false,
     "start_time": "2022-09-15T10:55:24.868740",
     "status": "completed"
    },
    "tags": []
   },
   "source": [
    "# **Feature** **Importance**"
   ]
  },
  {
   "cell_type": "code",
   "execution_count": 7,
   "id": "6a02e0da",
   "metadata": {
    "execution": {
     "iopub.execute_input": "2022-09-15T10:55:24.885048Z",
     "iopub.status.busy": "2022-09-15T10:55:24.884172Z",
     "iopub.status.idle": "2022-09-15T10:55:25.121475Z",
     "shell.execute_reply": "2022-09-15T10:55:25.120371Z"
    },
    "papermill": {
     "duration": 0.245726,
     "end_time": "2022-09-15T10:55:25.123816",
     "exception": false,
     "start_time": "2022-09-15T10:55:24.878090",
     "status": "completed"
    },
    "tags": []
   },
   "outputs": [
    {
     "data": {
      "image/png": "[encoded data removed]",
      "text/plain": [
       "<Figure size 432x288 with 1 Axes>"
      ]
     },
     "metadata": {
      "needs_background": "light"
     },
     "output_type": "display_data"
    }
   ],
   "source": [
    "fi = pd.DataFrame(data=reg.feature_importances_,\n",
    "             index=reg.feature_names_in_,\n",
    "             columns=['importance'])\n",
    "fi.sort_values('importance').plot(kind='barh', title='Feature Importance')\n",
    "plt.show()"
   ]
  },
  {
   "cell_type": "markdown",
   "id": "db49887e",
   "metadata": {
    "papermill": {
     "duration": 0.004918,
     "end_time": "2022-09-15T10:55:25.134072",
     "exception": false,
     "start_time": "2022-09-15T10:55:25.129154",
     "status": "completed"
    },
    "tags": []
   },
   "source": [
    "# **Forecast** on Test"
   ]
  },
  {
   "cell_type": "code",
   "execution_count": 8,
   "id": "554238bb",
   "metadata": {
    "execution": {
     "iopub.execute_input": "2022-09-15T10:55:25.146255Z",
     "iopub.status.busy": "2022-09-15T10:55:25.145321Z",
     "iopub.status.idle": "2022-09-15T10:55:25.663079Z",
     "shell.execute_reply": "2022-09-15T10:55:25.661672Z"
    },
    "papermill": {
     "duration": 0.526562,
     "end_time": "2022-09-15T10:55:25.665622",
     "exception": false,
     "start_time": "2022-09-15T10:55:25.139060",
     "status": "completed"
    },
    "tags": []
   },
   "outputs": [
    {
     "data": {
      "image/png": "[encoded data removed]",
      "text/plain": [
       "<Figure size 1080x360 with 1 Axes>"
      ]
     },
     "metadata": {
      "needs_background": "light"
     },
     "output_type": "display_data"
    },
    {
     "name": "stdout",
     "output_type": "stream",
     "text": [
      "(17520,)\n",
      "date\n",
      "2021-01-01    267.762207\n",
      "2021-01-01    267.762207\n",
      "2021-01-01    267.762207\n",
      "2021-01-01    267.762207\n",
      "2021-01-01    267.762207\n",
      "                 ...    \n",
      "2021-12-31    358.224182\n",
      "2021-12-31    358.224182\n",
      "2021-12-31    358.224182\n",
      "2021-12-31    358.224182\n",
      "2021-12-31    358.224182\n",
      "Name: prediction, Length: 17520, dtype: float32\n"
     ]
    }
   ],
   "source": [
    "test['prediction'] = reg.predict(X_test)\n",
    "train_pd = train_pd.merge(test[['prediction']], how='left', left_index=True, right_index=True)\n",
    "ax = test[\"prediction\"].plot(figsize=(15, 5))\n",
    "plt.show()\n",
    "print(test['prediction'].shape)\n",
    "print(test['prediction'])\n",
    "test['prediction'].to_csv(\"Version 1\", sep=',')"
   ]
  }
 ],
 "metadata": {
  "kernelspec": {
   "display_name": "Python 3",
   "language": "python",
   "name": "python3"
  },
  "language_info": {
   "codemirror_mode": {
    "name": "ipython",
    "version": 3
   },
   "file_extension": ".py",
   "mimetype": "text/x-python",
   "name": "python",
   "nbconvert_exporter": "python",
   "pygments_lexer": "ipython3",
   "version": "3.7.12"
  },
  "papermill": {
   "default_parameters": {},
   "duration": 21.776161,
   "end_time": "2022-09-15T10:55:26.394385",
   "environment_variables": {},
   "exception": null,
   "input_path": "__notebook__.ipynb",
   "output_path": "__notebook__.ipynb",
   "parameters": {},
   "start_time": "2022-09-15T10:55:04.618224",
   "version": "2.3.4"
  }
 },
 "nbformat": 4,
 "nbformat_minor": 5
}
